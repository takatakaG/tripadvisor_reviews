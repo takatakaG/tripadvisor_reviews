{
 "cells": [
  {
   "cell_type": "markdown",
   "metadata": {},
   "source": [
    "## 必要なライブラリをインポート"
   ]
  },
  {
   "cell_type": "code",
   "execution_count": null,
   "metadata": {},
   "outputs": [],
   "source": [
    "import sys\n",
    "import os\n",
    "import time\n",
    "import pandas as pd\n",
    "import MeCab as mc\n",
    "from sklearn.model_selection import train_test_split\n",
    "from sklearn.linear_model import Ridge,Lasso,ElasticNet\n",
    "import matplotlib.pyplot as pyp\n",
    "from sklearn.linear_model import RidgeCV,LassoCV,ElasticNetCV,RidgeClassifierCV\n",
    "from sklearn.model_selection import GridSearchCV\n",
    "import numpy as np\n",
    "from operator import itemgetter"
   ]
  },
  {
   "cell_type": "markdown",
   "metadata": {},
   "source": [
    "## データの取得"
   ]
  },
  {
   "cell_type": "code",
   "execution_count": null,
   "metadata": {},
   "outputs": [],
   "source": [
    "review_details = pd.read_csv(\"df.csv\")\n",
    "review_details.head()"
   ]
  },
  {
   "cell_type": "markdown",
   "metadata": {},
   "source": [
    "## 形態素解析\n",
    "### タイトルはコメントの要約に過ぎないので今回はコメントの分析だけ行う"
   ]
  },
  {
   "cell_type": "code",
   "execution_count": null,
   "metadata": {},
   "outputs": [],
   "source": [
    "def mecab_analysis(text):\n",
    "    word_sequence = str()\n",
    "    try:\n",
    "        mecab = mc.Tagger('/usr/local/lib/mecab/dic/mecab-ipadic-neologd')\n",
    "        \n",
    "        mecab.parse('')#文字列がGCされるのを防ぐ\n",
    "        node = mecab.parseToNode(text)  \n",
    "        \n",
    "        while node:\n",
    "            #単語を取得\n",
    "            word = node.surface\n",
    "            #品詞を取得\n",
    "            pos = node.feature.split(\",\")[1]\n",
    "            if pos in [\"一般\",\"固有名詞\",\"サ変接続\",\"形容詞\"]:\n",
    "                word_sequence = word_sequence + word+\" \"\n",
    "            #次の単語に進める\n",
    "            node = node.next\n",
    "        return word_sequence\n",
    "    except:\n",
    "        return word_sequence\n",
    "\n",
    "review_details[\"comment_mecab\"] = review_details[\"comment\"].apply(lambda x:mecab_analysis(x))\n",
    "#review_details[\"title_mecab\"] = review_details[\"title\"].apply(lambda x:mecab_analysis(x))"
   ]
  },
  {
   "cell_type": "code",
   "execution_count": null,
   "metadata": {},
   "outputs": [],
   "source": [
    "review_details.head()"
   ]
  },
  {
   "cell_type": "markdown",
   "metadata": {},
   "source": [
    "## tf-idfでベクトル化"
   ]
  },
  {
   "cell_type": "code",
   "execution_count": null,
   "metadata": {},
   "outputs": [],
   "source": [
    "from sklearn.feature_extraction.text import TfidfVectorizer\n",
    "tfidf_reviews = review_details[\"comment_mecab\"]\n",
    "reviews_vectorizer = TfidfVectorizer(use_idf=True,token_pattern=u'(?u)\\\\b\\\\w+\\\\b')\n",
    "reviews_vecs = reviews_vectorizer.fit_transform(tfidf_reviews)\n",
    "reviews_vecs_df = pd.DataFrame(reviews_vecs.toarray())\n",
    "concat_df = pd.concat([review_details,reviews_vecs_df],axis = 1)\n",
    "drop_col = [\"comment\",\"title\",\"comment_mecab\"]\n",
    "for_reg_df = concat_df.drop(drop_col,axis=1)\n",
    "for_reg_df.head()"
   ]
  },
  {
   "cell_type": "markdown",
   "metadata": {},
   "source": [
    "## 機械学習モデル構築"
   ]
  },
  {
   "cell_type": "code",
   "execution_count": null,
   "metadata": {},
   "outputs": [],
   "source": [
    "from sklearn.model_selection import train_test_split\n",
    "from sklearn.linear_model import Ridge,Lasso,ElasticNet\n",
    "import matplotlib.pyplot as pyp\n",
    "from sklearn.linear_model import RidgeCV,LassoCV,ElasticNetCV,RidgeClassifierCV\n",
    "from sklearn.model_selection import GridSearchCV"
   ]
  },
  {
   "cell_type": "code",
   "execution_count": null,
   "metadata": {},
   "outputs": [],
   "source": [
    "x_train, x_val, y_train, y_val = train_test_split(for_reg_df.iloc[:,1:],for_reg_df[\"score\"], train_size=0.8, random_state=1)"
   ]
  },
  {
   "cell_type": "code",
   "execution_count": null,
   "metadata": {},
   "outputs": [],
   "source": [
    "ridge_clf = RidgeCV().fit(x_train,y_train)"
   ]
  },
  {
   "cell_type": "code",
   "execution_count": null,
   "metadata": {},
   "outputs": [],
   "source": [
    "lasso_clf = LassoCV(cv=10).fit(x_train,y_train)"
   ]
  },
  {
   "cell_type": "code",
   "execution_count": null,
   "metadata": {},
   "outputs": [],
   "source": [
    "param_grid = {'alpha':[0.1,0.2,0.3,0.4,0.5,0.6,0.7,0.8,0.9],'l1_ratio':[0.1,0.2,0.3,0.5,0.7,0.9]}\n",
    "elastic_grid = GridSearchCV(ElasticNet(),param_grid=param_grid)\n",
    "elastic_grid.fit(x_train,y_train)\n",
    "elastic_grid.best_params_"
   ]
  },
  {
   "cell_type": "code",
   "execution_count": null,
   "metadata": {},
   "outputs": [],
   "source": [
    "elastic_clf = ElasticNet(alpha=0.1,l1_ratio=0.1).fit(x_train,y_train)"
   ]
  },
  {
   "cell_type": "code",
   "execution_count": null,
   "metadata": {},
   "outputs": [],
   "source": [
    "ridge_pred =ridge_clf.predict(x_val)\n",
    "lasso_pred=lasso_clf.predict(x_val)\n",
    "elastic_pred = elastic_clf.predict(x_val)"
   ]
  },
  {
   "cell_type": "code",
   "execution_count": null,
   "metadata": {},
   "outputs": [],
   "source": [
    "print(\"\\nLassoでの係数\")\n",
    "print(lasso_clf.intercept_) \n",
    "print(lasso_clf.coef_)"
   ]
  },
  {
   "cell_type": "code",
   "execution_count": null,
   "metadata": {},
   "outputs": [],
   "source": [
    "print(\"\\nridge_RMS\")\n",
    "ridge_RMS = np.mean((ridge_pred - y_val) **2)\n",
    "print(ridge_RMS)"
   ]
  },
  {
   "cell_type": "code",
   "execution_count": null,
   "metadata": {},
   "outputs": [],
   "source": [
    "print(\"\\nRidgeでの係数\")\n",
    "print(ridge_clf.intercept_) \n",
    "print(ridge_clf.coef_)"
   ]
  },
  {
   "cell_type": "code",
   "execution_count": null,
   "metadata": {},
   "outputs": [],
   "source": [
    "print(\"\\nlasso_RMS\")\n",
    "lasso_RMS = np.mean((lasso_pred - y_val) **2)\n",
    "print(lasso_RMS)"
   ]
  },
  {
   "cell_type": "code",
   "execution_count": null,
   "metadata": {},
   "outputs": [],
   "source": [
    "print(\"\\nElasticNetでの係数\")\n",
    "print(elastic_clf.intercept_) \n",
    "print(elastic_clf.coef_)"
   ]
  },
  {
   "cell_type": "code",
   "execution_count": null,
   "metadata": {},
   "outputs": [],
   "source": [
    "print(\"\\nelasticnet_RMS\")\n",
    "elastic_RMS = np.mean((elastic_pred - y_val) **2)\n",
    "print(elastic_RMS)"
   ]
  },
  {
   "cell_type": "markdown",
   "metadata": {},
   "source": [
    "\n",
    "## 平均二乗誤差が小さいRidge回帰を採用"
   ]
  },
  {
   "cell_type": "code",
   "execution_count": null,
   "metadata": {},
   "outputs": [],
   "source": [
    "np.argmax(ridge_clf.coef_)"
   ]
  },
  {
   "cell_type": "code",
   "execution_count": null,
   "metadata": {},
   "outputs": [],
   "source": [
    "np.where(ridge_clf.coef_ > 0.9)"
   ]
  },
  {
   "cell_type": "code",
   "execution_count": null,
   "metadata": {},
   "outputs": [],
   "source": [
    "#リストから参照する方法\n",
    "#https://qiita.com/supersaiakujin/items/d63c73bb7b5aac43898a"
   ]
  },
  {
   "cell_type": "code",
   "execution_count": null,
   "metadata": {},
   "outputs": [],
   "source": [
    "def get_keyword(idx):\n",
    "    print(np.array(list(reviews_vectorizer.vocabulary_.items()))[np.array(list(reviews_vectorizer.vocabulary_.items()))[:,1]==idx])"
   ]
  },
  {
   "cell_type": "code",
   "execution_count": null,
   "metadata": {},
   "outputs": [],
   "source": [
    "get_keyword('1416')"
   ]
  }
 ],
 "metadata": {
  "kernelspec": {
   "display_name": "Python 3",
   "language": "python",
   "name": "python3"
  },
  "language_info": {
   "codemirror_mode": {
    "name": "ipython",
    "version": 3
   },
   "file_extension": ".py",
   "mimetype": "text/x-python",
   "name": "python",
   "nbconvert_exporter": "python",
   "pygments_lexer": "ipython3",
   "version": "3.7.5"
  }
 },
 "nbformat": 4,
 "nbformat_minor": 2
}
